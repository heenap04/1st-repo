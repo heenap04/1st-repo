{
 "cells": [
  {
   "cell_type": "code",
   "execution_count": 1,
   "id": "6f96ffdf",
   "metadata": {},
   "outputs": [
    {
     "name": "stdout",
     "output_type": "stream",
     "text": [
      "['we', 'are', 'in', 'TGT101.', 'we', 'are', 'studying', 'python']\n",
      "we are in TGT101. we are studying java\n"
     ]
    }
   ],
   "source": [
    "data=\"we are in TGT101. we are studying python\"\n",
    "li=data.split()\n",
    "print(li)\n",
    "new_data=data.replace(\"python\",\"java\")\n",
    "print(new_data)"
   ]
  },
  {
   "cell_type": "code",
   "execution_count": 2,
   "id": "e5c76e64",
   "metadata": {},
   "outputs": [
    {
     "name": "stdout",
     "output_type": "stream",
     "text": [
      "['we', 'are', 'in', 'TGT101.', 'we', 'are', 'studying', 'python']\n",
      "we are in TGT101. we are studying java\n"
     ]
    }
   ],
   "source": [
    "data=\"we are in TGT101. we are studying python\"\n",
    "li=data.split()\n",
    "print(li)\n",
    "new_data=data.replace(\"python\",\"java\",5)\n",
    "print(new_data)"
   ]
  },
  {
   "cell_type": "code",
   "execution_count": 3,
   "id": "cc5beff7",
   "metadata": {},
   "outputs": [
    {
     "name": "stdout",
     "output_type": "stream",
     "text": [
      "10\n"
     ]
    }
   ],
   "source": [
    "data=\"we are in TG101. we are studying python\"\n",
    "target=\"TG101\"\n",
    "i=data.find(target)\n",
    "print(i)"
   ]
  },
  {
   "cell_type": "code",
   "execution_count": 4,
   "id": "1a1ded51",
   "metadata": {},
   "outputs": [
    {
     "name": "stdout",
     "output_type": "stream",
     "text": [
      "10\n"
     ]
    }
   ],
   "source": [
    "data=\"we are in TG101. we are studying python\"\n",
    "target=\"TG101\"\n",
    "i=data.find(target,6)\n",
    "print(i)"
   ]
  },
  {
   "cell_type": "code",
   "execution_count": 5,
   "id": "e623610a",
   "metadata": {},
   "outputs": [
    {
     "name": "stdout",
     "output_type": "stream",
     "text": [
      "-1\n"
     ]
    }
   ],
   "source": [
    "data=\"we are in TG101. we are studying python\"\n",
    "target=\"TG101\"\n",
    "i=data.find(target,6,11)\n",
    "print(i)"
   ]
  },
  {
   "cell_type": "code",
   "execution_count": 7,
   "id": "e56eb142",
   "metadata": {},
   "outputs": [
    {
     "name": "stdout",
     "output_type": "stream",
     "text": [
      "WE ARE IN TG101. WE ARE STUDYING PYTHON\n"
     ]
    }
   ],
   "source": [
    "data=\"we are in TG101. we are studying python\"\n",
    "up=data.upper()\n",
    "print(up)"
   ]
  },
  {
   "cell_type": "code",
   "execution_count": 8,
   "id": "6d4ee2f6",
   "metadata": {},
   "outputs": [
    {
     "name": "stdout",
     "output_type": "stream",
     "text": [
      "we are in tg101. we are studying python\n"
     ]
    }
   ],
   "source": [
    "data=\"we are in TG101. we are studying python\"\n",
    "lc=data.lower()\n",
    "print(lc)"
   ]
  },
  {
   "cell_type": "code",
   "execution_count": 9,
   "id": "6b7f46a7",
   "metadata": {},
   "outputs": [
    {
     "name": "stdout",
     "output_type": "stream",
     "text": [
      "True\n"
     ]
    }
   ],
   "source": [
    "result=data.startswith(\"we\")\n",
    "print(result)"
   ]
  },
  {
   "cell_type": "code",
   "execution_count": 10,
   "id": "952cac0f",
   "metadata": {},
   "outputs": [
    {
     "name": "stdout",
     "output_type": "stream",
     "text": [
      "True\n"
     ]
    }
   ],
   "source": [
    "result=data.startswith(\"we\",17)\n",
    "print(result)"
   ]
  },
  {
   "cell_type": "code",
   "execution_count": 11,
   "id": "b50923a7",
   "metadata": {},
   "outputs": [
    {
     "name": "stdout",
     "output_type": "stream",
     "text": [
      "him is beautifulhim is beautiful him is beautiful\n"
     ]
    }
   ],
   "source": [
    "data=\"himachal is beautifulhimachal is beautiful himachal is beautiful\"\n",
    "a=data.replace(\"himachal\",\"him\")\n",
    "print(a)"
   ]
  },
  {
   "cell_type": "code",
   "execution_count": 12,
   "id": "fcb49a99",
   "metadata": {},
   "outputs": [
    {
     "name": "stdout",
     "output_type": "stream",
     "text": [
      "him is beautifulhim is beautiful himachal is beautiful\n"
     ]
    }
   ],
   "source": [
    "data=\"himachal is beautifulhimachal is beautiful himachal is beautiful\"\n",
    "a=data.replace(\"himachal\",\"him\",2)\n",
    "print(a)"
   ]
  },
  {
   "cell_type": "code",
   "execution_count": null,
   "id": "67b02e68",
   "metadata": {},
   "outputs": [],
   "source": []
  }
 ],
 "metadata": {
  "kernelspec": {
   "display_name": "Python 3 (ipykernel)",
   "language": "python",
   "name": "python3"
  },
  "language_info": {
   "codemirror_mode": {
    "name": "ipython",
    "version": 3
   },
   "file_extension": ".py",
   "mimetype": "text/x-python",
   "name": "python",
   "nbconvert_exporter": "python",
   "pygments_lexer": "ipython3",
   "version": "3.9.13"
  }
 },
 "nbformat": 4,
 "nbformat_minor": 5
}
